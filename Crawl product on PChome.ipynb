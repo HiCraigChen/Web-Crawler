{
 "cells": [
  {
   "cell_type": "markdown",
   "metadata": {},
   "source": [
    "### Selenium webdriver is a useful package that can use to launch a browser.\n",
    "### The best thing about this webdriver is that it will wait untill all javascript loaded.\n",
    "### Thus, we can grab some information that generate by javascript."
   ]
  },
  {
   "cell_type": "code",
   "execution_count": 2,
   "metadata": {
    "collapsed": false
   },
   "outputs": [],
   "source": [
    "from selenium import webdriver     \n",
    "import urllib.request\n",
    "import time\n",
    "import requests\n",
    "from bs4 import BeautifulSoup as bs4"
   ]
  },
  {
   "cell_type": "code",
   "execution_count": 3,
   "metadata": {
    "collapsed": false,
    "scrolled": false
   },
   "outputs": [
    {
     "name": "stdout",
     "output_type": "stream",
     "text": [
      "<h5 class=\"nick\">\n",
      "<a href=\"#\"><span class=\"extra\"></span></a>\n",
      "</h5>\n"
     ]
    },
    {
     "name": "stderr",
     "output_type": "stream",
     "text": [
      "/Users/Craig/anaconda/lib/python3.6/site-packages/bs4/__init__.py:181: UserWarning: No parser was explicitly specified, so I'm using the best available HTML parser for this system (\"lxml\"). This usually isn't a problem, but if you run this code on another system, or in a different virtual environment, it may use a different parser and behave differently.\n",
      "\n",
      "The code that caused this warning is on line 193 of the file /Users/Craig/anaconda/lib/python3.6/runpy.py. To get rid of this warning, change code that looks like this:\n",
      "\n",
      " BeautifulSoup([your markup])\n",
      "\n",
      "to this:\n",
      "\n",
      " BeautifulSoup([your markup], \"lxml\")\n",
      "\n",
      "  markup_type=markup_type))\n"
     ]
    }
   ],
   "source": [
    "# We can't get any information about product. It's because the content in prod_info is made by javascript.\n",
    "res = requests.get('http://24h.pchome.com.tw/store/DRAC00')\n",
    "res = bs4(res.text,'html')\n",
    "print(res.select('.prod_info h5')[0])"
   ]
  },
  {
   "cell_type": "code",
   "execution_count": 4,
   "metadata": {
    "collapsed": false
   },
   "outputs": [],
   "source": [
    "# Will launch a firefox browser\n",
    "Driver = webdriver.Firefox(executable_path='/Users/Craig/modules_download/geckodriver')\n",
    "Driver.get('http://24h.pchome.com.tw/store/DRAC00')\n",
    "msg = Driver.find_elements_by_xpath('//div[@class=\"prod_info\"]/h5')"
   ]
  },
  {
   "cell_type": "code",
   "execution_count": 5,
   "metadata": {
    "collapsed": false
   },
   "outputs": [
    {
     "data": {
      "text/plain": [
       "14"
      ]
     },
     "execution_count": 5,
     "metadata": {},
     "output_type": "execute_result"
    }
   ],
   "source": [
    "len(msg)"
   ]
  },
  {
   "cell_type": "code",
   "execution_count": 6,
   "metadata": {
    "collapsed": false
   },
   "outputs": [
    {
     "data": {
      "text/plain": [
       "'Micron美光 Crucial D4 2400/16G (8G*2)雙通道RAM'"
      ]
     },
     "execution_count": 6,
     "metadata": {},
     "output_type": "execute_result"
    }
   ],
   "source": [
    "msg[1].text"
   ]
  },
  {
   "cell_type": "code",
   "execution_count": 7,
   "metadata": {
    "collapsed": false
   },
   "outputs": [],
   "source": [
    "Driver.get('http://24h.pchome.com.tw/store/DRAC00')\n",
    "msg = Driver.find_elements_by_xpath('//a[@class=\"prod_img\"]/img')"
   ]
  },
  {
   "cell_type": "code",
   "execution_count": 8,
   "metadata": {
    "collapsed": false
   },
   "outputs": [
    {
     "name": "stdout",
     "output_type": "stream",
     "text": [
      "Micron美光 Crucial D4 2400/32G (16G*2)雙通道RAM http://a.ecimg.tw/items/DRAC4ZA9007R6RM/000001_1491362517.jpg\n"
     ]
    }
   ],
   "source": [
    "pic_url = msg[0].get_attribute('src')\n",
    "pic_name = msg[0].get_attribute('alt')\n",
    "print(pic_name, pic_url)"
   ]
  },
  {
   "cell_type": "code",
   "execution_count": 9,
   "metadata": {
    "collapsed": false
   },
   "outputs": [
    {
     "data": {
      "text/plain": [
       "('Data/Micron.jpg', <http.client.HTTPMessage at 0x103bdd908>)"
      ]
     },
     "execution_count": 9,
     "metadata": {},
     "output_type": "execute_result"
    }
   ],
   "source": [
    "# Save product image.\n",
    "urllib.request.urlretrieve(pic_url,'Data/Micron.jpg')"
   ]
  },
  {
   "cell_type": "markdown",
   "metadata": {},
   "source": [
    "# PhantomJS\n",
    "### Which is a great package that can use webdriver to launch the browser behind the scenes."
   ]
  },
  {
   "cell_type": "code",
   "execution_count": 10,
   "metadata": {
    "collapsed": false
   },
   "outputs": [
    {
     "name": "stdout",
     "output_type": "stream",
     "text": [
      "Micron美光 Crucial D4 2400/32G (16G*2)雙通道RAM http://a.ecimg.tw/items/DRAC4ZA9007R6RM/000001_1491362517.jpg\n"
     ]
    }
   ],
   "source": [
    "Driver_Ph = webdriver.PhantomJS('/Users/Craig/phantomjs-2.1.1-macosx/bin/phantomjs')\n",
    "Driver_Ph.get('http://24h.pchome.com.tw/store/DRAC00')\n",
    "time.sleep(1)  # Sometimes need sleep a second for preventing the browser operate so fast.\n",
    "msg = Driver_Ph.find_elements_by_xpath('//a[@class=\"prod_img\"]/img')\n",
    "pic_url = msg[0].get_attribute('src')\n",
    "pic_name = msg[0].get_attribute('alt')\n",
    "print(pic_name, pic_url)"
   ]
  },
  {
   "cell_type": "code",
   "execution_count": null,
   "metadata": {
    "collapsed": true
   },
   "outputs": [],
   "source": []
  }
 ],
 "metadata": {
  "kernelspec": {
   "display_name": "Python 3",
   "language": "python",
   "name": "python3"
  },
  "language_info": {
   "codemirror_mode": {
    "name": "ipython",
    "version": 3
   },
   "file_extension": ".py",
   "mimetype": "text/x-python",
   "name": "python",
   "nbconvert_exporter": "python",
   "pygments_lexer": "ipython3",
   "version": "3.6.0"
  }
 },
 "nbformat": 4,
 "nbformat_minor": 1
}
