{
 "cells": [
  {
   "cell_type": "markdown",
   "metadata": {},
   "source": [
    "# Download Daily NBA boxscore and Play-by-play information\n",
    "### saved as .json"
   ]
  },
  {
   "cell_type": "code",
   "execution_count": 1,
   "metadata": {
    "collapsed": true
   },
   "outputs": [],
   "source": [
    "import requests\n",
    "import json\n",
    "from bs4 import BeautifulSoup as bs4\n",
    "from datetime import date, timedelta\n",
    "import urllib.request\n",
    "import os"
   ]
  },
  {
   "cell_type": "code",
   "execution_count": 2,
   "metadata": {
    "collapsed": false
   },
   "outputs": [],
   "source": [
    "today = date.today()\n",
    "url = 'https://tw.global.nba.com/stats2/scores/daily.json?countryCode=TW&gameDate={0}&locale=zh_TW&tz=%2B8'\n",
    "url_today = url.format(str(today))   #get daily game preview URL\n",
    "res = requests.get(url)\n",
    "Daily = json.loads(res.text)        #Read Json file\n",
    "\n",
    "#If there is no game today, it will pass.\n",
    "try:\n",
    "    Game_num = len(Daily['payload']['date']['games'])  #Know how many games played today\n",
    "    Game_ID = []\n",
    "    \n",
    "    #Search the game ID each game for requesting fully box score and play by play data\n",
    "    for i in range(Game_num):   \n",
    "        Game_ID.append(Daily['payload']['date']['games'][i]['profile']['gameId'])\n",
    "\n",
    "    url_games = 'https://tw.global.nba.com/stats2/game/snapshot.json?countryCode=TW&gameId={0}&locale=zh_TW'\n",
    "    playbplay = 'https://tw.global.nba.com/stats2/game/playbyplay.json?gameId={0}&locale=zh_TW&period={1}'\n",
    "    \n",
    "    #Use game ID to reconstruct URL to get data\n",
    "    for ids in Game_ID:  \n",
    "        directory = 'Data/'+str(today)+'/'+str(ids)\n",
    "        Game_url = url_games.format(ids)\n",
    "        \n",
    "        #Check if the directory exists. If not, create a new directory\n",
    "        if not os.path.exists(directory):\n",
    "            os.makedirs(directory)\n",
    "        \n",
    "        #Download the json file.\n",
    "        urllib.request.urlretrieve(Game_url,'Data/'+str(today)+'/'+str(ids)+'/BoxScore.json')\n",
    "        \n",
    "        #Collect play-by-play information by period number\n",
    "        for i in range(1,5):\n",
    "            url_play = playbplay.format(ids,i)\n",
    "            #Download json file.\n",
    "            urllib.request.urlretrieve(url_play,'Data/'+str(today)+'/'+str(ids)+'/'+str(i)+'.json')\n",
    "\n",
    "except TypeError: \n",
    "    pass"
   ]
  },
  {
   "cell_type": "code",
   "execution_count": null,
   "metadata": {
    "collapsed": true
   },
   "outputs": [],
   "source": []
  }
 ],
 "metadata": {
  "kernelspec": {
   "display_name": "Python 3",
   "language": "python",
   "name": "python3"
  },
  "language_info": {
   "codemirror_mode": {
    "name": "ipython",
    "version": 3
   },
   "file_extension": ".py",
   "mimetype": "text/x-python",
   "name": "python",
   "nbconvert_exporter": "python",
   "pygments_lexer": "ipython3",
   "version": "3.6.0"
  }
 },
 "nbformat": 4,
 "nbformat_minor": 2
}
